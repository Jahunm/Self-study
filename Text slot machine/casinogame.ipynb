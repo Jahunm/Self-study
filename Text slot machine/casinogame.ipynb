{
 "cells": [
  {
   "cell_type": "code",
   "execution_count": 20,
   "id": "50bd44b3-06c0-4aa0-a80c-f96ee28df918",
   "metadata": {
    "tags": []
   },
   "outputs": [],
   "source": [
    "MAX_LINES = 3\n",
    "\n",
    "# Setup the amount the customer wants to deposit for play with an input prompt.\n",
    "def deposit():\n",
    "    while True:\n",
    "        amount = input(\"What would you like to deposit? $\")\n",
    "        if amount.isdigit():\n",
    "            amount = int(amount)\n",
    "            if amount > 0:\n",
    "                break\n",
    "            else:\n",
    "                print(\"Amount must be greater than 0\")\n",
    "        else:\n",
    "            print(\"Please enter a number?\")\n",
    "            \n"
   ]
  },
  {
   "cell_type": "code",
   "execution_count": 21,
   "id": "8727a9ed-3ea6-41c5-bd58-b9cc0c76ae05",
   "metadata": {
    "tags": []
   },
   "outputs": [],
   "source": [
    "# Create a function that the user determines how many lines they want to bet on\n",
    "def get_num_of_lines():\n",
    "    while True:\n",
    "        lines = input(\"How many lines do you wanna bet on (1-\" +str(MAX_LINES) + \")? \")\n",
    "        if lines.isdigit():\n",
    "            lines = int(line)\n",
    "            if 1 <= lines <= MAX_LINES:\n",
    "                break\n",
    "            else:\n",
    "                print(\"Pick how many lines... 1, 2 or 3\")\n",
    "        else:\n",
    "            print(\"Please enter a number?\")\n",
    "    return lines"
   ]
  },
  {
   "cell_type": "code",
   "execution_count": 22,
   "id": "e49534af-8f27-4abc-879d-9327f7920e77",
   "metadata": {
    "tags": []
   },
   "outputs": [],
   "source": [
    "def main():\n",
    "    balance = deposit()\n",
    "    lines = get_num_of_lines()\n",
    "    print(balance, lines)"
   ]
  },
  {
   "cell_type": "code",
   "execution_count": null,
   "id": "0e1602e1-4380-4119-9419-2fe27b889abf",
   "metadata": {},
   "outputs": [],
   "source": []
  }
 ],
 "metadata": {
  "kernelspec": {
   "display_name": "Python 3 (ipykernel)",
   "language": "python",
   "name": "python3"
  },
  "language_info": {
   "codemirror_mode": {
    "name": "ipython",
    "version": 3
   },
   "file_extension": ".py",
   "mimetype": "text/x-python",
   "name": "python",
   "nbconvert_exporter": "python",
   "pygments_lexer": "ipython3",
   "version": "3.9.15"
  }
 },
 "nbformat": 4,
 "nbformat_minor": 5
}
